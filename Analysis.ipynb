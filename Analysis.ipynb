{
 "cells": [
  {
   "cell_type": "code",
   "execution_count": 2,
   "id": "2592b840",
   "metadata": {},
   "outputs": [],
   "source": [
    "import pandas as pd\n",
    "import numpy as np"
   ]
  },
  {
   "cell_type": "code",
   "execution_count": 4,
   "id": "48b66f71",
   "metadata": {},
   "outputs": [],
   "source": [
    "df=pd.read_csv(\"Rockfall_data/final_balanced_dataset.csv\")"
   ]
  },
  {
   "cell_type": "code",
   "execution_count": 5,
   "id": "75446d1a",
   "metadata": {},
   "outputs": [
    {
     "data": {
      "application/vnd.microsoft.datawrangler.viewer.v0+json": {
       "columns": [
        {
         "name": "index",
         "rawType": "int64",
         "type": "integer"
        },
        {
         "name": "location_id",
         "rawType": "object",
         "type": "string"
        },
        {
         "name": "timestamp",
         "rawType": "object",
         "type": "string"
        },
        {
         "name": "precipitation_rate_mm_hr",
         "rawType": "float64",
         "type": "float"
        },
        {
         "name": "pore_pressure_kpa",
         "rawType": "float64",
         "type": "float"
        },
        {
         "name": "subsurface_displacement_mm",
         "rawType": "float64",
         "type": "float"
        },
        {
         "name": "ground_acceleration_g",
         "rawType": "float64",
         "type": "float"
        },
        {
         "name": "realtime_water_table_m",
         "rawType": "float64",
         "type": "float"
        },
        {
         "name": "cumulative_precip_72hr",
         "rawType": "float64",
         "type": "float"
        },
        {
         "name": "cumulative_precip_168hr",
         "rawType": "float64",
         "type": "float"
        },
        {
         "name": "ucs_mpa",
         "rawType": "float64",
         "type": "float"
        },
        {
         "name": "seismic_zone",
         "rawType": "object",
         "type": "string"
        },
        {
         "name": "pga_g",
         "rawType": "float64",
         "type": "float"
        },
        {
         "name": "initial_water_table_m",
         "rawType": "float64",
         "type": "float"
        },
        {
         "name": "rockfall_event",
         "rawType": "int64",
         "type": "integer"
        },
        {
         "name": "3d_surface_coord_x",
         "rawType": "float64",
         "type": "float"
        },
        {
         "name": "3d_surface_coord_y",
         "rawType": "float64",
         "type": "float"
        },
        {
         "name": "3d_surface_coord_z",
         "rawType": "float64",
         "type": "float"
        }
       ],
       "ref": "6b69a494-8739-4406-8f19-b6d832b91985",
       "rows": [
        [
         "0",
         "Zone_A",
         "2025-04-08 12:37:12.259652",
         "0.3159",
         "245.25",
         "0.0312",
         "0.0005",
         "25.0",
         "0.3159",
         "0.3159",
         "90.4",
         "IV",
         "0.49",
         "25.0",
         "0",
         "0.0374",
         "0.0359",
         "0.0405"
        ],
        [
         "1",
         "Zone_A",
         "2025-04-08 13:37:12.259652",
         "0.0",
         "245.25",
         "0.063",
         "0.014",
         "25.0",
         "0.3159",
         "0.3159",
         "90.4",
         "IV",
         "0.49",
         "25.0",
         "0",
         "0.0756",
         "0.0725",
         "0.0819"
        ],
        [
         "2",
         "Zone_A",
         "2025-04-08 14:37:12.259652",
         "0.0",
         "245.25",
         "0.0958",
         "0.0326",
         "25.0",
         "0.3159",
         "0.3159",
         "90.4",
         "IV",
         "0.49",
         "25.0",
         "0",
         "0.115",
         "0.1102",
         "0.1246"
        ],
        [
         "3",
         "Zone_A",
         "2025-04-08 15:37:12.259652",
         "0.0",
         "245.25",
         "0.127",
         "0.0001",
         "25.0",
         "0.3159",
         "0.3159",
         "90.4",
         "IV",
         "0.49",
         "25.0",
         "0",
         "0.1524",
         "0.146",
         "0.1651"
        ],
        [
         "4",
         "Zone_A",
         "2025-04-08 16:37:12.259652",
         "1.8553",
         "246.8067",
         "0.1584",
         "0.0005",
         "25.1587",
         "2.1712",
         "2.1712",
         "90.4",
         "IV",
         "0.49",
         "25.0",
         "0",
         "0.19",
         "0.1821",
         "0.2059"
        ]
       ],
       "shape": {
        "columns": 17,
        "rows": 5
       }
      },
      "text/html": [
       "<div>\n",
       "<style scoped>\n",
       "    .dataframe tbody tr th:only-of-type {\n",
       "        vertical-align: middle;\n",
       "    }\n",
       "\n",
       "    .dataframe tbody tr th {\n",
       "        vertical-align: top;\n",
       "    }\n",
       "\n",
       "    .dataframe thead th {\n",
       "        text-align: right;\n",
       "    }\n",
       "</style>\n",
       "<table border=\"1\" class=\"dataframe\">\n",
       "  <thead>\n",
       "    <tr style=\"text-align: right;\">\n",
       "      <th></th>\n",
       "      <th>location_id</th>\n",
       "      <th>timestamp</th>\n",
       "      <th>precipitation_rate_mm_hr</th>\n",
       "      <th>pore_pressure_kpa</th>\n",
       "      <th>subsurface_displacement_mm</th>\n",
       "      <th>ground_acceleration_g</th>\n",
       "      <th>realtime_water_table_m</th>\n",
       "      <th>cumulative_precip_72hr</th>\n",
       "      <th>cumulative_precip_168hr</th>\n",
       "      <th>ucs_mpa</th>\n",
       "      <th>seismic_zone</th>\n",
       "      <th>pga_g</th>\n",
       "      <th>initial_water_table_m</th>\n",
       "      <th>rockfall_event</th>\n",
       "      <th>3d_surface_coord_x</th>\n",
       "      <th>3d_surface_coord_y</th>\n",
       "      <th>3d_surface_coord_z</th>\n",
       "    </tr>\n",
       "  </thead>\n",
       "  <tbody>\n",
       "    <tr>\n",
       "      <th>0</th>\n",
       "      <td>Zone_A</td>\n",
       "      <td>2025-04-08 12:37:12.259652</td>\n",
       "      <td>0.3159</td>\n",
       "      <td>245.2500</td>\n",
       "      <td>0.0312</td>\n",
       "      <td>0.0005</td>\n",
       "      <td>25.0000</td>\n",
       "      <td>0.3159</td>\n",
       "      <td>0.3159</td>\n",
       "      <td>90.4</td>\n",
       "      <td>IV</td>\n",
       "      <td>0.49</td>\n",
       "      <td>25.0</td>\n",
       "      <td>0</td>\n",
       "      <td>0.0374</td>\n",
       "      <td>0.0359</td>\n",
       "      <td>0.0405</td>\n",
       "    </tr>\n",
       "    <tr>\n",
       "      <th>1</th>\n",
       "      <td>Zone_A</td>\n",
       "      <td>2025-04-08 13:37:12.259652</td>\n",
       "      <td>0.0000</td>\n",
       "      <td>245.2500</td>\n",
       "      <td>0.0630</td>\n",
       "      <td>0.0140</td>\n",
       "      <td>25.0000</td>\n",
       "      <td>0.3159</td>\n",
       "      <td>0.3159</td>\n",
       "      <td>90.4</td>\n",
       "      <td>IV</td>\n",
       "      <td>0.49</td>\n",
       "      <td>25.0</td>\n",
       "      <td>0</td>\n",
       "      <td>0.0756</td>\n",
       "      <td>0.0725</td>\n",
       "      <td>0.0819</td>\n",
       "    </tr>\n",
       "    <tr>\n",
       "      <th>2</th>\n",
       "      <td>Zone_A</td>\n",
       "      <td>2025-04-08 14:37:12.259652</td>\n",
       "      <td>0.0000</td>\n",
       "      <td>245.2500</td>\n",
       "      <td>0.0958</td>\n",
       "      <td>0.0326</td>\n",
       "      <td>25.0000</td>\n",
       "      <td>0.3159</td>\n",
       "      <td>0.3159</td>\n",
       "      <td>90.4</td>\n",
       "      <td>IV</td>\n",
       "      <td>0.49</td>\n",
       "      <td>25.0</td>\n",
       "      <td>0</td>\n",
       "      <td>0.1150</td>\n",
       "      <td>0.1102</td>\n",
       "      <td>0.1246</td>\n",
       "    </tr>\n",
       "    <tr>\n",
       "      <th>3</th>\n",
       "      <td>Zone_A</td>\n",
       "      <td>2025-04-08 15:37:12.259652</td>\n",
       "      <td>0.0000</td>\n",
       "      <td>245.2500</td>\n",
       "      <td>0.1270</td>\n",
       "      <td>0.0001</td>\n",
       "      <td>25.0000</td>\n",
       "      <td>0.3159</td>\n",
       "      <td>0.3159</td>\n",
       "      <td>90.4</td>\n",
       "      <td>IV</td>\n",
       "      <td>0.49</td>\n",
       "      <td>25.0</td>\n",
       "      <td>0</td>\n",
       "      <td>0.1524</td>\n",
       "      <td>0.1460</td>\n",
       "      <td>0.1651</td>\n",
       "    </tr>\n",
       "    <tr>\n",
       "      <th>4</th>\n",
       "      <td>Zone_A</td>\n",
       "      <td>2025-04-08 16:37:12.259652</td>\n",
       "      <td>1.8553</td>\n",
       "      <td>246.8067</td>\n",
       "      <td>0.1584</td>\n",
       "      <td>0.0005</td>\n",
       "      <td>25.1587</td>\n",
       "      <td>2.1712</td>\n",
       "      <td>2.1712</td>\n",
       "      <td>90.4</td>\n",
       "      <td>IV</td>\n",
       "      <td>0.49</td>\n",
       "      <td>25.0</td>\n",
       "      <td>0</td>\n",
       "      <td>0.1900</td>\n",
       "      <td>0.1821</td>\n",
       "      <td>0.2059</td>\n",
       "    </tr>\n",
       "  </tbody>\n",
       "</table>\n",
       "</div>"
      ],
      "text/plain": [
       "  location_id                   timestamp  precipitation_rate_mm_hr  \\\n",
       "0      Zone_A  2025-04-08 12:37:12.259652                    0.3159   \n",
       "1      Zone_A  2025-04-08 13:37:12.259652                    0.0000   \n",
       "2      Zone_A  2025-04-08 14:37:12.259652                    0.0000   \n",
       "3      Zone_A  2025-04-08 15:37:12.259652                    0.0000   \n",
       "4      Zone_A  2025-04-08 16:37:12.259652                    1.8553   \n",
       "\n",
       "   pore_pressure_kpa  subsurface_displacement_mm  ground_acceleration_g  \\\n",
       "0           245.2500                      0.0312                 0.0005   \n",
       "1           245.2500                      0.0630                 0.0140   \n",
       "2           245.2500                      0.0958                 0.0326   \n",
       "3           245.2500                      0.1270                 0.0001   \n",
       "4           246.8067                      0.1584                 0.0005   \n",
       "\n",
       "   realtime_water_table_m  cumulative_precip_72hr  cumulative_precip_168hr  \\\n",
       "0                 25.0000                  0.3159                   0.3159   \n",
       "1                 25.0000                  0.3159                   0.3159   \n",
       "2                 25.0000                  0.3159                   0.3159   \n",
       "3                 25.0000                  0.3159                   0.3159   \n",
       "4                 25.1587                  2.1712                   2.1712   \n",
       "\n",
       "   ucs_mpa seismic_zone  pga_g  initial_water_table_m  rockfall_event  \\\n",
       "0     90.4           IV   0.49                   25.0               0   \n",
       "1     90.4           IV   0.49                   25.0               0   \n",
       "2     90.4           IV   0.49                   25.0               0   \n",
       "3     90.4           IV   0.49                   25.0               0   \n",
       "4     90.4           IV   0.49                   25.0               0   \n",
       "\n",
       "   3d_surface_coord_x  3d_surface_coord_y  3d_surface_coord_z  \n",
       "0              0.0374              0.0359              0.0405  \n",
       "1              0.0756              0.0725              0.0819  \n",
       "2              0.1150              0.1102              0.1246  \n",
       "3              0.1524              0.1460              0.1651  \n",
       "4              0.1900              0.1821              0.2059  "
      ]
     },
     "execution_count": 5,
     "metadata": {},
     "output_type": "execute_result"
    }
   ],
   "source": [
    "df.head()"
   ]
  },
  {
   "cell_type": "code",
   "execution_count": 5,
   "id": "847f82d5",
   "metadata": {},
   "outputs": [
    {
     "name": "stdout",
     "output_type": "stream",
     "text": [
      "<class 'pandas.core.frame.DataFrame'>\n",
      "RangeIndex: 6480 entries, 0 to 6479\n",
      "Data columns (total 15 columns):\n",
      " #   Column                      Non-Null Count  Dtype  \n",
      "---  ------                      --------------  -----  \n",
      " 0   location_id                 6480 non-null   object \n",
      " 1   timestamp                   6480 non-null   object \n",
      " 2   3d_surface_coord_x          6480 non-null   float64\n",
      " 3   3d_surface_coord_y          6480 non-null   float64\n",
      " 4   3d_surface_coord_z          6480 non-null   float64\n",
      " 5   pore_pressure_kpa           6480 non-null   float64\n",
      " 6   subsurface_displacement_mm  6480 non-null   float64\n",
      " 7   precipitation_rate_mm_hr    6480 non-null   float64\n",
      " 8   ground_acceleration_g       6480 non-null   float64\n",
      " 9   realtime_water_table_m      6480 non-null   float64\n",
      " 10  rockfall_event              6480 non-null   int64  \n",
      " 11  ucs_mpa                     6480 non-null   float64\n",
      " 12  seismic_zone                6480 non-null   object \n",
      " 13  pga_g                       6480 non-null   float64\n",
      " 14  initial_water_table_m       6480 non-null   float64\n",
      "dtypes: float64(11), int64(1), object(3)\n",
      "memory usage: 759.5+ KB\n"
     ]
    },
    {
     "data": {
      "application/vnd.microsoft.datawrangler.viewer.v0+json": {
       "columns": [
        {
         "name": "index",
         "rawType": "object",
         "type": "string"
        },
        {
         "name": "3d_surface_coord_x",
         "rawType": "float64",
         "type": "float"
        },
        {
         "name": "3d_surface_coord_y",
         "rawType": "float64",
         "type": "float"
        },
        {
         "name": "3d_surface_coord_z",
         "rawType": "float64",
         "type": "float"
        },
        {
         "name": "pore_pressure_kpa",
         "rawType": "float64",
         "type": "float"
        },
        {
         "name": "subsurface_displacement_mm",
         "rawType": "float64",
         "type": "float"
        },
        {
         "name": "precipitation_rate_mm_hr",
         "rawType": "float64",
         "type": "float"
        },
        {
         "name": "ground_acceleration_g",
         "rawType": "float64",
         "type": "float"
        },
        {
         "name": "realtime_water_table_m",
         "rawType": "float64",
         "type": "float"
        },
        {
         "name": "rockfall_event",
         "rawType": "float64",
         "type": "float"
        },
        {
         "name": "ucs_mpa",
         "rawType": "float64",
         "type": "float"
        },
        {
         "name": "pga_g",
         "rawType": "float64",
         "type": "float"
        },
        {
         "name": "initial_water_table_m",
         "rawType": "float64",
         "type": "float"
        }
       ],
       "ref": "f489d95f-0d66-4009-a9f2-c57a2fe5f384",
       "rows": [
        [
         "count",
         "6480.0",
         "6480.0",
         "6480.0",
         "6480.0",
         "6480.0",
         "6480.0",
         "6480.0",
         "6480.0",
         "6480.0",
         "6480.0",
         "6480.0",
         "6480.0"
        ],
        [
         "mean",
         "2.14000262345679",
         "2.1393421296296293",
         "2.4086831790123457",
         "994.0618672839506",
         "1.7844233024691356",
         "5.1139984567901235",
         "0.0071060493827160495",
         "101.33643518518518",
         "0.00015432098765432098",
         "99.16666666666664",
         "0.26999999999999996",
         "27.533333333333335"
        ],
        [
         "std",
         "1.4427287796672337",
         "1.4445755383344994",
         "1.627862280048256",
         "131.56866113798492",
         "1.198350699938637",
         "3.6584822586835255",
         "0.00811622209525977",
         "13.408244768027698",
         "0.01242259987499883",
         "16.59070118926671",
         "0.07257740384798264",
         "7.230741595165178"
        ],
        [
         "min",
         "0.001",
         "0.001",
         "0.001",
         "176.66",
         "0.0",
         "0.0",
         "0.0",
         "18.01",
         "0.0",
         "77.1",
         "0.17",
         "17.6"
        ],
        [
         "25%",
         "0.996",
         "0.994",
         "1.113",
         "973.215",
         "0.82875",
         "2.1175",
         "0.0",
         "99.21",
         "0.0",
         "77.1",
         "0.17",
         "17.6"
        ],
        [
         "50%",
         "2.0374999999999996",
         "2.05",
         "2.3105",
         "1024.15",
         "1.7135",
         "4.905",
         "0.00515",
         "104.405",
         "0.0",
         "103.3",
         "0.3",
         "30.4"
        ],
        [
         "75%",
         "3.12825",
         "3.123",
         "3.526",
         "1066.8325",
         "2.61425",
         "7.65",
         "0.0119",
         "108.75",
         "0.0",
         "117.1",
         "0.34",
         "34.6"
        ],
        [
         "max",
         "8.262",
         "8.291",
         "9.513",
         "1199.56",
         "6.386",
         "19.99",
         "0.2077",
         "122.28",
         "1.0",
         "117.1",
         "0.34",
         "34.6"
        ]
       ],
       "shape": {
        "columns": 12,
        "rows": 8
       }
      },
      "text/html": [
       "<div>\n",
       "<style scoped>\n",
       "    .dataframe tbody tr th:only-of-type {\n",
       "        vertical-align: middle;\n",
       "    }\n",
       "\n",
       "    .dataframe tbody tr th {\n",
       "        vertical-align: top;\n",
       "    }\n",
       "\n",
       "    .dataframe thead th {\n",
       "        text-align: right;\n",
       "    }\n",
       "</style>\n",
       "<table border=\"1\" class=\"dataframe\">\n",
       "  <thead>\n",
       "    <tr style=\"text-align: right;\">\n",
       "      <th></th>\n",
       "      <th>3d_surface_coord_x</th>\n",
       "      <th>3d_surface_coord_y</th>\n",
       "      <th>3d_surface_coord_z</th>\n",
       "      <th>pore_pressure_kpa</th>\n",
       "      <th>subsurface_displacement_mm</th>\n",
       "      <th>precipitation_rate_mm_hr</th>\n",
       "      <th>ground_acceleration_g</th>\n",
       "      <th>realtime_water_table_m</th>\n",
       "      <th>rockfall_event</th>\n",
       "      <th>ucs_mpa</th>\n",
       "      <th>pga_g</th>\n",
       "      <th>initial_water_table_m</th>\n",
       "    </tr>\n",
       "  </thead>\n",
       "  <tbody>\n",
       "    <tr>\n",
       "      <th>count</th>\n",
       "      <td>6480.000000</td>\n",
       "      <td>6480.000000</td>\n",
       "      <td>6480.000000</td>\n",
       "      <td>6480.000000</td>\n",
       "      <td>6480.000000</td>\n",
       "      <td>6480.000000</td>\n",
       "      <td>6480.000000</td>\n",
       "      <td>6480.000000</td>\n",
       "      <td>6480.000000</td>\n",
       "      <td>6480.000000</td>\n",
       "      <td>6480.000000</td>\n",
       "      <td>6480.000000</td>\n",
       "    </tr>\n",
       "    <tr>\n",
       "      <th>mean</th>\n",
       "      <td>2.140003</td>\n",
       "      <td>2.139342</td>\n",
       "      <td>2.408683</td>\n",
       "      <td>994.061867</td>\n",
       "      <td>1.784423</td>\n",
       "      <td>5.113998</td>\n",
       "      <td>0.007106</td>\n",
       "      <td>101.336435</td>\n",
       "      <td>0.000154</td>\n",
       "      <td>99.166667</td>\n",
       "      <td>0.270000</td>\n",
       "      <td>27.533333</td>\n",
       "    </tr>\n",
       "    <tr>\n",
       "      <th>std</th>\n",
       "      <td>1.442729</td>\n",
       "      <td>1.444576</td>\n",
       "      <td>1.627862</td>\n",
       "      <td>131.568661</td>\n",
       "      <td>1.198351</td>\n",
       "      <td>3.658482</td>\n",
       "      <td>0.008116</td>\n",
       "      <td>13.408245</td>\n",
       "      <td>0.012423</td>\n",
       "      <td>16.590701</td>\n",
       "      <td>0.072577</td>\n",
       "      <td>7.230742</td>\n",
       "    </tr>\n",
       "    <tr>\n",
       "      <th>min</th>\n",
       "      <td>0.001000</td>\n",
       "      <td>0.001000</td>\n",
       "      <td>0.001000</td>\n",
       "      <td>176.660000</td>\n",
       "      <td>0.000000</td>\n",
       "      <td>0.000000</td>\n",
       "      <td>0.000000</td>\n",
       "      <td>18.010000</td>\n",
       "      <td>0.000000</td>\n",
       "      <td>77.100000</td>\n",
       "      <td>0.170000</td>\n",
       "      <td>17.600000</td>\n",
       "    </tr>\n",
       "    <tr>\n",
       "      <th>25%</th>\n",
       "      <td>0.996000</td>\n",
       "      <td>0.994000</td>\n",
       "      <td>1.113000</td>\n",
       "      <td>973.215000</td>\n",
       "      <td>0.828750</td>\n",
       "      <td>2.117500</td>\n",
       "      <td>0.000000</td>\n",
       "      <td>99.210000</td>\n",
       "      <td>0.000000</td>\n",
       "      <td>77.100000</td>\n",
       "      <td>0.170000</td>\n",
       "      <td>17.600000</td>\n",
       "    </tr>\n",
       "    <tr>\n",
       "      <th>50%</th>\n",
       "      <td>2.037500</td>\n",
       "      <td>2.050000</td>\n",
       "      <td>2.310500</td>\n",
       "      <td>1024.150000</td>\n",
       "      <td>1.713500</td>\n",
       "      <td>4.905000</td>\n",
       "      <td>0.005150</td>\n",
       "      <td>104.405000</td>\n",
       "      <td>0.000000</td>\n",
       "      <td>103.300000</td>\n",
       "      <td>0.300000</td>\n",
       "      <td>30.400000</td>\n",
       "    </tr>\n",
       "    <tr>\n",
       "      <th>75%</th>\n",
       "      <td>3.128250</td>\n",
       "      <td>3.123000</td>\n",
       "      <td>3.526000</td>\n",
       "      <td>1066.832500</td>\n",
       "      <td>2.614250</td>\n",
       "      <td>7.650000</td>\n",
       "      <td>0.011900</td>\n",
       "      <td>108.750000</td>\n",
       "      <td>0.000000</td>\n",
       "      <td>117.100000</td>\n",
       "      <td>0.340000</td>\n",
       "      <td>34.600000</td>\n",
       "    </tr>\n",
       "    <tr>\n",
       "      <th>max</th>\n",
       "      <td>8.262000</td>\n",
       "      <td>8.291000</td>\n",
       "      <td>9.513000</td>\n",
       "      <td>1199.560000</td>\n",
       "      <td>6.386000</td>\n",
       "      <td>19.990000</td>\n",
       "      <td>0.207700</td>\n",
       "      <td>122.280000</td>\n",
       "      <td>1.000000</td>\n",
       "      <td>117.100000</td>\n",
       "      <td>0.340000</td>\n",
       "      <td>34.600000</td>\n",
       "    </tr>\n",
       "  </tbody>\n",
       "</table>\n",
       "</div>"
      ],
      "text/plain": [
       "       3d_surface_coord_x  3d_surface_coord_y  3d_surface_coord_z  \\\n",
       "count         6480.000000         6480.000000         6480.000000   \n",
       "mean             2.140003            2.139342            2.408683   \n",
       "std              1.442729            1.444576            1.627862   \n",
       "min              0.001000            0.001000            0.001000   \n",
       "25%              0.996000            0.994000            1.113000   \n",
       "50%              2.037500            2.050000            2.310500   \n",
       "75%              3.128250            3.123000            3.526000   \n",
       "max              8.262000            8.291000            9.513000   \n",
       "\n",
       "       pore_pressure_kpa  subsurface_displacement_mm  \\\n",
       "count        6480.000000                 6480.000000   \n",
       "mean          994.061867                    1.784423   \n",
       "std           131.568661                    1.198351   \n",
       "min           176.660000                    0.000000   \n",
       "25%           973.215000                    0.828750   \n",
       "50%          1024.150000                    1.713500   \n",
       "75%          1066.832500                    2.614250   \n",
       "max          1199.560000                    6.386000   \n",
       "\n",
       "       precipitation_rate_mm_hr  ground_acceleration_g  \\\n",
       "count               6480.000000            6480.000000   \n",
       "mean                   5.113998               0.007106   \n",
       "std                    3.658482               0.008116   \n",
       "min                    0.000000               0.000000   \n",
       "25%                    2.117500               0.000000   \n",
       "50%                    4.905000               0.005150   \n",
       "75%                    7.650000               0.011900   \n",
       "max                   19.990000               0.207700   \n",
       "\n",
       "       realtime_water_table_m  rockfall_event      ucs_mpa        pga_g  \\\n",
       "count             6480.000000     6480.000000  6480.000000  6480.000000   \n",
       "mean               101.336435        0.000154    99.166667     0.270000   \n",
       "std                 13.408245        0.012423    16.590701     0.072577   \n",
       "min                 18.010000        0.000000    77.100000     0.170000   \n",
       "25%                 99.210000        0.000000    77.100000     0.170000   \n",
       "50%                104.405000        0.000000   103.300000     0.300000   \n",
       "75%                108.750000        0.000000   117.100000     0.340000   \n",
       "max                122.280000        1.000000   117.100000     0.340000   \n",
       "\n",
       "       initial_water_table_m  \n",
       "count            6480.000000  \n",
       "mean               27.533333  \n",
       "std                 7.230742  \n",
       "min                17.600000  \n",
       "25%                17.600000  \n",
       "50%                30.400000  \n",
       "75%                34.600000  \n",
       "max                34.600000  "
      ]
     },
     "execution_count": 5,
     "metadata": {},
     "output_type": "execute_result"
    }
   ],
   "source": [
    "df.info()\n",
    "df.describe()"
   ]
  },
  {
   "cell_type": "code",
   "execution_count": 6,
   "id": "cf03c05d",
   "metadata": {},
   "outputs": [
    {
     "name": "stdout",
     "output_type": "stream",
     "text": [
      "Missing values per column:\n",
      "location_id                   0\n",
      "timestamp                     0\n",
      "3d_surface_coord_x            0\n",
      "3d_surface_coord_y            0\n",
      "3d_surface_coord_z            0\n",
      "pore_pressure_kpa             0\n",
      "subsurface_displacement_mm    0\n",
      "precipitation_rate_mm_hr      0\n",
      "ground_acceleration_g         0\n",
      "realtime_water_table_m        0\n",
      "rockfall_event                0\n",
      "ucs_mpa                       0\n",
      "seismic_zone                  0\n",
      "pga_g                         0\n",
      "initial_water_table_m         0\n",
      "dtype: int64\n",
      "Missing values after cleaning:\n",
      "location_id                   0\n",
      "timestamp                     0\n",
      "3d_surface_coord_x            0\n",
      "3d_surface_coord_y            0\n",
      "3d_surface_coord_z            0\n",
      "pore_pressure_kpa             0\n",
      "subsurface_displacement_mm    0\n",
      "precipitation_rate_mm_hr      0\n",
      "ground_acceleration_g         0\n",
      "realtime_water_table_m        0\n",
      "rockfall_event                0\n",
      "ucs_mpa                       0\n",
      "seismic_zone                  0\n",
      "pga_g                         0\n",
      "initial_water_table_m         0\n",
      "dtype: int64\n"
     ]
    }
   ],
   "source": [
    "print('Missing values per column:')\n",
    "print(df.isnull().sum())\n",
    "df = df.drop_duplicates()\n",
    "for col in df.columns:\n",
    "    if df[col].dtype == 'O':\n",
    "        df[col] = df[col].fillna(df[col].mode()[0])\n",
    "    else:\n",
    "        df[col] = df[col].fillna(df[col].mean())\n",
    "print('Missing values after cleaning:')\n",
    "print(df.isnull().sum())"
   ]
  },
  {
   "cell_type": "code",
   "execution_count": null,
   "id": "41faa86f",
   "metadata": {},
   "outputs": [],
   "source": [
    "## Data Cleaning Completed\n"
   ]
  },
  {
   "cell_type": "code",
   "execution_count": 11,
   "id": "5ab0f1b0",
   "metadata": {},
   "outputs": [
    {
     "name": "stdout",
     "output_type": "stream",
     "text": [
      "Train shape: (5184, 14), Test shape: (1296, 14)\n"
     ]
    }
   ],
   "source": [
    "from sklearn.model_selection import train_test_split\n",
    "\n",
    "X = df.iloc[:, :-1]\n",
    "y = df.iloc[:, -1]\n",
    "\n",
    "X_train, X_test, y_train, y_test = train_test_split(X, y, test_size=0.2, random_state=42)\n",
    "\n",
    "print(f'Train shape: {X_train.shape}, Test shape: {X_test.shape}')"
   ]
  },
  {
   "cell_type": "code",
   "execution_count": 13,
   "id": "89954fdd",
   "metadata": {},
   "outputs": [
    {
     "name": "stdout",
     "output_type": "stream",
     "text": [
      "Target unique values: [30.4 17.6 34.6]\n",
      "MSE: 2.351690555938408e-10\n",
      "R2 Score: 0.9999999999956546\n"
     ]
    }
   ],
   "source": [
    "import xgboost as xgb\n",
    "from sklearn.metrics import mean_squared_error, r2_score\n",
    "from sklearn.preprocessing import LabelEncoder\n",
    "X_encoded = X.copy()\n",
    "for col in X_encoded.select_dtypes(include=['object', 'category']).columns:\n",
    "    X_encoded[col] = LabelEncoder().fit_transform(X_encoded[col].astype(str))\n",
    "\n",
    "X_train_enc, X_test_enc = X_encoded.loc[X_train.index], X_encoded.loc[X_test.index]\n",
    "\n",
    "print('Target unique values:', y_train.unique())\n",
    "model = xgb.XGBRegressor(random_state=42)\n",
    "model.fit(X_train_enc, y_train)\n",
    "y_pred = model.predict(X_test_enc)\n",
    "print('MSE:', mean_squared_error(y_test, y_pred))\n",
    "print('R2 Score:', r2_score(y_test, y_pred))"
   ]
  },
  {
   "cell_type": "code",
   "execution_count": 16,
   "id": "e707aa33",
   "metadata": {},
   "outputs": [
    {
     "data": {
      "image/png": "[encoded data removed]",
      "text/plain": [
       "<Figure size 800x600 with 1 Axes>"
      ]
     },
     "metadata": {},
     "output_type": "display_data"
    },
    {
     "data": {
      "image/png": "[encoded data removed]",
      "text/plain": [
       "<Figure size 800x600 with 1 Axes>"
      ]
     },
     "metadata": {},
     "output_type": "display_data"
    }
   ],
   "source": [
    "# Test the trained XGBoost regression model\n",
    "import matplotlib.pyplot as plt\n",
    "import seaborn as sns\n",
    "\n",
    "# Scatter plot: True vs Predicted values\n",
    "plt.figure(figsize=(8,6))\n",
    "sns.scatterplot(x=y_test, y=y_pred)\n",
    "plt.xlabel('True Values')\n",
    "plt.ylabel('Predicted Values')\n",
    "plt.title('XGBoost Regression: True vs Predicted')\n",
    "plt.plot([y_test.min(), y_test.max()], [y_test.min(), y_test.max()], 'r--')\n",
    "plt.show()\n",
    "\n",
    "# Residual plot\n",
    "residuals = y_test - y_pred\n",
    "plt.figure(figsize=(8,6))\n",
    "sns.histplot(residuals, kde=True)\n",
    "plt.xlabel('Residuals')\n",
    "plt.title('Residuals Distribution')\n",
    "plt.show()"
   ]
  },
  {
   "cell_type": "code",
   "execution_count": null,
   "id": "43107c72",
   "metadata": {},
   "outputs": [],
   "source": []
  },
  {
   "cell_type": "code",
   "execution_count": 17,
   "id": "b3812fa9",
   "metadata": {},
   "outputs": [
    {
     "name": "stdout",
     "output_type": "stream",
     "text": [
      "Test MAE: 0.0000\n",
      "Test MSE: 0.0000\n",
      "Test R2 Score: 1.0000\n"
     ]
    }
   ],
   "source": [
    "# Predict and evaluate on test data (again, for clarity)\n",
    "y_test_pred = model.predict(X_test_enc)\n",
    "from sklearn.metrics import mean_absolute_error\n",
    "mae = mean_absolute_error(y_test, y_test_pred)\n",
    "mse = mean_squared_error(y_test, y_test_pred)\n",
    "r2 = r2_score(y_test, y_test_pred)\n",
    "print(f\"Test MAE: {mae:.4f}\")\n",
    "print(f\"Test MSE: {mse:.4f}\")\n",
    "print(f\"Test R2 Score: {r2:.4f}\")"
   ]
  },
  {
   "cell_type": "code",
   "execution_count": null,
   "id": "9d268aef",
   "metadata": {},
   "outputs": [],
   "source": []
  }
 ],
 "metadata": {
  "kernelspec": {
   "display_name": "pytorch_gpu_env",
   "language": "python",
   "name": "python3"
  },
  "language_info": {
   "codemirror_mode": {
    "name": "ipython",
    "version": 3
   },
   "file_extension": ".py",
   "mimetype": "text/x-python",
   "name": "python",
   "nbconvert_exporter": "python",
   "pygments_lexer": "ipython3",
   "version": "3.10.16"
  }
 },
 "nbformat": 4,
 "nbformat_minor": 5
}
